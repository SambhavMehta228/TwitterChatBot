{
 "cells": [
  {
   "cell_type": "code",
   "execution_count": 1,
   "metadata": {},
   "outputs": [
    {
     "data": {
      "text/plain": [
       "False"
      ]
     },
     "execution_count": 1,
     "metadata": {},
     "output_type": "execute_result"
    }
   ],
   "source": [
    "from langchain.chat_models import ChatOpenAI\n",
    "from langchain.prompts import ChatPromptTemplate , PromptTemplate , SystemMessagePromptTemplate, AIMessagePromptTemplate, HumanMessagePromptTemplate\n",
    "from dotenv import load_dotenv\n",
    "import os\n",
    "import tweepy\n",
    "from airtable import Airtable\n",
    "from datetime import datetime, timedelta\n",
    "import schedule\n",
    "import time \n",
    "load_dotenv()\n",
    "\n"
   ]
  },
  {
   "cell_type": "code",
   "execution_count": 2,
   "metadata": {
    "tags": [
     "hide-input"
    ]
   },
   "outputs": [],
   "source": [
    "# @hidden_cell\n",
    "OPEN_API_KEY=os.getenv(\"OPEN_API_KEY\",\"\")\n",
    "TWITTER_API_KEY = os.getenv(\"TWITTER_API_KEY\",\"\")\n",
    "TWITTER_API_SECRET = os.getenv(\"TWITTER_API_SECRET\",\"\")\n",
    "TWITTER_ACCESS_TOKEN= os.getenv(\"TWITTER_ACCESS_TOKEN\",\"\")\n",
    "TWITTER_ACCESS_TOKEN_SECRET= os.getenv(\"TWITTER_ACCESS_TOKEN_SECRET\",\"\")\n",
    "TWITTER_BEARER_TOKEN= os.getenv(\"TWITTER_BEARER_TOKEN\",\"\")\n",
    "\n",
    "\n",
    "AIRTABLE_API_KEY = os.getenv(\"AIRTABLE_API_KEY\",\"\")\n",
    "AIRTABLE_BASE_KEY= os.getenv(\"AIRTABLE_BASE_KEY\",\"\")\n",
    "AIRTABLE_TABLE_NAME=os.getenv(\"AIRTABLE_TABLE_NAME\",\"\")"
   ]
  },
  {
   "cell_type": "code",
   "execution_count": 3,
   "metadata": {},
   "outputs": [],
   "source": [
    "class TwitterBot:\n",
    "    def __init__(self):\n",
    "        self.twitter_api=tweepy.Client(bearer_token=TWITTER_BEARER_TOKEN,\n",
    "                                       consumer_key=TWITTER_API_KEY,\n",
    "                                       consumer_secret=TWITTER_API_SECRET,\n",
    "                                       access_token=TWITTER_ACCESS_TOKEN,\n",
    "                                       access_token_secret=TWITTER_ACCESS_TOKEN_SECRET,\n",
    "                                       wait_on_rate_limit=True)\n",
    "        self.airtable=Airtable(AIRTABLE_BASE_KEY,AIRTABLE_TABLE_NAME,AIRTABLE_API_KEY)\n",
    "        self.titter_me_id=self.get_me_id()\n",
    "        self.twitter_response_limit =35\n",
    "        self.llm=ChatOpenAI(temperature=0.9,\n",
    "               openai_api_key=OPEN_API_KEY,\n",
    "               tiktoken_model_name='gpt-3.5-turbo',\n",
    "               )\n",
    "        self.mentions_found=0\n",
    "        self.mentions_replied =0\n",
    "        self.mentions_replied_errors =0\n",
    "\n",
    "\n",
    "\n",
    "\n",
    "\n",
    "\n",
    "    def generate_response(self, mentioned_parent_tweet):\n",
    "        system_template=\"\"\" \n",
    "        You are a wise and cunning CEO of a Tech Company from Banglore who likes to play with words and use Sarcasm . Your goal is to give a playfull and sarcastic response to  piece of text from the user .\n",
    "\n",
    "        %RESPONSE TONE :\n",
    "        - Your reply should be given in an active voice and be opinionated\n",
    "        - Your tone should be Sarcastic and playfull .\n",
    "        \n",
    "        %RESPONSE FORMAT :\n",
    "        -Respond in under 200 characters\n",
    "        -Respond in two or less short sentence\n",
    "        -Use Emojis if Needed\n",
    "\n",
    "        %RESPONSE CONTENT :\n",
    "        - Include Slangs and puns if they are relevant\n",
    "        - If You don't have an Answer , say, \"I Guess My Time's Up!! Have To Give Answer Another Time . \"\n",
    "\n",
    "\n",
    "        \n",
    "        \"\"\"\n",
    "        system_message_prompt=SystemMessagePromptTemplate.from_template(system_template)\n",
    "        \n",
    "        human_template=\"{text}\"\n",
    "        human_messsage_prompt=HumanMessagePromptTemplate.from_template(human_template)\n",
    "\n",
    "        chat_prompt=ChatPromptTemplate.from_messages([system_message_prompt,human_messsage_prompt])\n",
    "\n",
    "        final_prompt=chat_prompt.format_prompt(text=mentioned_parent_tweet).to_messages()\n",
    "        response=self.llm(final_prompt).content\n",
    "\n",
    "        return response\n",
    "    \n",
    "    def respond_to_mention(self,mention,mentioned_conversation_tweet):\n",
    "        response_text=self.generate_response(mentioned_conversation_tweet.text)\n",
    "        try:\n",
    "            response_tweet= self.twitter_api.create_tweet(text=response_text,in_reply_to_tweet_id=mention.id)\n",
    "            self.mentions_replied +=1\n",
    "        except Exception as e:\n",
    "            print(e)\n",
    "            self.mentions_replied_errors +=1\n",
    "            return\n",
    "        \n",
    "        self.airtable.insert({\n",
    "            'mentioned_conversation_tweet_id': str(mentioned_conversation_tweet.id),\n",
    "            'mentioned_conversation_tweet_text': mentioned_conversation_tweet.text,\n",
    "            'tweet_response_id': response_tweet.data['id'],\n",
    "            'tweet_response_text': response_text,\n",
    "            'tweet_response_created_at': datetime.utcnow().isoformat(),\n",
    "            'mentioned_at': mention.created_at.isoformat() })\n",
    "        return True\n",
    "    def get_me_id(self):\n",
    "        return self.twitter_api.get_me()[0].id\n",
    "    \n",
    "    def get_mention_conversation_tweet(self, mention):\n",
    "        if mention.conversation_id is not None:\n",
    "            conversation_tweet = self.twitter_api.get_tweet(mention.conversation_id).data\n",
    "            return conversation_tweet\n",
    "        return None\n",
    "    def get_mentions(self):\n",
    "        now = datetime.utcnow()\n",
    "        start_time = now - timedelta(minutes=20)\n",
    "        start_time_str = start_time.strftime(\"%Y-%m-%dT%H:%M:%SZ\")\n",
    "        \n",
    "        return self.twitter_api.get_users_mentions(id=self.twitter_me_id,\n",
    "                                                   start_time=start_time_str,\n",
    "                                                   expansions=['referenced_tweets.id'],\n",
    "                                                   tweet_fields=['created_at', 'conversation_id']).data\n",
    "\n",
    "\n",
    "    def check_already_responded(self, mentioned_conversation_tweet_id):\n",
    "        records = self.airtable.get_all(view='Grid view')\n",
    "        for record in records:\n",
    "            if record['fields'].get('mentioned_conversation_tweet_id') == str(mentioned_conversation_tweet_id):\n",
    "                return True\n",
    "        return False\n",
    "    def respond_to_mentions(self):\n",
    "        mentions = self.get_mentions()\n",
    "        if not mentions:\n",
    "            print(\"No mentions found\")\n",
    "            return\n",
    "        \n",
    "        self.mentions_found = len(mentions)\n",
    "\n",
    "        for mention in mentions[:self.tweet_response_limit]:\n",
    "            mentioned_conversation_tweet = self.get_mention_conversation_tweet(mention)\n",
    "            if (mentioned_conversation_tweet.id != mention.id\n",
    "                and not self.check_already_responded(mentioned_conversation_tweet.id)):\n",
    "\n",
    "                self.respond_to_mention(mention, mentioned_conversation_tweet)\n",
    "        return True\n",
    "    def execute_replies(self):\n",
    "        print (f\"Starting Job: {datetime.utcnow().isoformat()}\")\n",
    "        self.respond_to_mentions()\n",
    "        print (f\"Finished Job: {datetime.utcnow().isoformat()}, Found: {self.mentions_found}, Replied: {self.mentions_replied}, Errors: {self.mentions_replied_errors}\")\n",
    "        "
   ]
  },
  {
   "cell_type": "code",
   "execution_count": 4,
   "metadata": {},
   "outputs": [],
   "source": [
    "def job():\n",
    "    print(f\"Job executed at {datetime.utcnow().isoformat()}\")\n",
    "    bot = TwitterBot()\n",
    "    bot.execute_replies()"
   ]
  },
  {
   "cell_type": "code",
   "execution_count": 5,
   "metadata": {},
   "outputs": [
    {
     "ename": "KeyboardInterrupt",
     "evalue": "",
     "output_type": "error",
     "traceback": [
      "\u001b[0;31m---------------------------------------------------------------------------\u001b[0m",
      "\u001b[0;31mKeyboardInterrupt\u001b[0m                         Traceback (most recent call last)",
      "Cell \u001b[0;32mIn[5], line 5\u001b[0m\n\u001b[1;32m      3\u001b[0m \u001b[39mwhile\u001b[39;00m \u001b[39mTrue\u001b[39;00m:\n\u001b[1;32m      4\u001b[0m     schedule\u001b[39m.\u001b[39mrun_pending()\n\u001b[0;32m----> 5\u001b[0m     time\u001b[39m.\u001b[39msleep(\u001b[39m1\u001b[39m)\n",
      "\u001b[0;31mKeyboardInterrupt\u001b[0m: "
     ]
    }
   ],
   "source": [
    "if __name__ == \"__main__\":\n",
    "    schedule.every(6).minutes.do(job)\n",
    "    while True:\n",
    "        schedule.run_pending()\n",
    "        time.sleep(1)"
   ]
  },
  {
   "cell_type": "code",
   "execution_count": null,
   "metadata": {},
   "outputs": [],
   "source": []
  },
  {
   "cell_type": "code",
   "execution_count": null,
   "metadata": {},
   "outputs": [],
   "source": []
  },
  {
   "cell_type": "code",
   "execution_count": null,
   "metadata": {},
   "outputs": [],
   "source": []
  }
 ],
 "metadata": {
  "kernelspec": {
   "display_name": "Python 3 (ipykernel)",
   "language": "python",
   "name": "python3"
  },
  "language_info": {
   "codemirror_mode": {
    "name": "ipython",
    "version": 3
   },
   "file_extension": ".py",
   "mimetype": "text/x-python",
   "name": "python",
   "nbconvert_exporter": "python",
   "pygments_lexer": "ipython3",
   "version": "3.11.4"
  }
 },
 "nbformat": 4,
 "nbformat_minor": 4
}
